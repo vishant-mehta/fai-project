{
 "cells": [
  {
   "cell_type": "code",
   "execution_count": 1,
   "id": "e5e8b1bb-e640-43f2-8450-a709c4199022",
   "metadata": {},
   "outputs": [],
   "source": [
    "# Importing libraries\n",
    "import nltk\n",
    "import pandas as pd\n",
    "import numpy as np\n",
    "from collections import Counter\n",
    "from nltk.tokenize import word_tokenize"
   ]
  },
  {
   "cell_type": "code",
   "execution_count": 2,
   "id": "54c6cdc3-185a-41d9-b8ee-15a68862d0ba",
   "metadata": {},
   "outputs": [],
   "source": [
    "# Load PubMedQA dataset from parquet files\n",
    "def load_pubmedqa_dataset(parquet_files):\n",
    "    df_list = []\n",
    "    for file in parquet_files:\n",
    "        df_list.append(pd.read_parquet(file))\n",
    "    return pd.concat(df_list, ignore_index=True)"
   ]
  },
  {
   "cell_type": "code",
   "execution_count": 3,
   "id": "335c6cc8-5eee-4116-bf31-ef7e85214e75",
   "metadata": {},
   "outputs": [],
   "source": [
    "# PubMedQA parquet file\n",
    "parquet_file = ['0000.parquet']"
   ]
  },
  {
   "cell_type": "code",
   "execution_count": 4,
   "id": "84007243-6978-446a-afe1-dfd48aebce5d",
   "metadata": {},
   "outputs": [],
   "source": [
    "# Load PubMedQA dataset\n",
    "pubmedqa_df = load_pubmedqa_dataset(parquet_file)"
   ]
  },
  {
   "cell_type": "code",
   "execution_count": 5,
   "id": "a701b697-0c9a-4174-b7e8-b6b9935c46be",
   "metadata": {},
   "outputs": [
    {
     "data": {
      "text/html": [
       "<div>\n",
       "<style scoped>\n",
       "    .dataframe tbody tr th:only-of-type {\n",
       "        vertical-align: middle;\n",
       "    }\n",
       "\n",
       "    .dataframe tbody tr th {\n",
       "        vertical-align: top;\n",
       "    }\n",
       "\n",
       "    .dataframe thead th {\n",
       "        text-align: right;\n",
       "    }\n",
       "</style>\n",
       "<table border=\"1\" class=\"dataframe\">\n",
       "  <thead>\n",
       "    <tr style=\"text-align: right;\">\n",
       "      <th></th>\n",
       "      <th>pubid</th>\n",
       "      <th>question</th>\n",
       "      <th>context</th>\n",
       "      <th>long_answer</th>\n",
       "      <th>final_decision</th>\n",
       "    </tr>\n",
       "  </thead>\n",
       "  <tbody>\n",
       "    <tr>\n",
       "      <th>0</th>\n",
       "      <td>25429730</td>\n",
       "      <td>Are group 2 innate lymphoid cells ( ILC2s ) in...</td>\n",
       "      <td>{'contexts': ['Chronic rhinosinusitis (CRS) is...</td>\n",
       "      <td>As ILC2s are elevated in patients with CRSwNP,...</td>\n",
       "      <td>yes</td>\n",
       "    </tr>\n",
       "    <tr>\n",
       "      <th>1</th>\n",
       "      <td>25433161</td>\n",
       "      <td>Does vagus nerve contribute to the development...</td>\n",
       "      <td>{'contexts': ['Phosphatidylethanolamine N-meth...</td>\n",
       "      <td>Neuronal signals via the hepatic vagus nerve c...</td>\n",
       "      <td>yes</td>\n",
       "    </tr>\n",
       "    <tr>\n",
       "      <th>2</th>\n",
       "      <td>25445714</td>\n",
       "      <td>Does psammaplin A induce Sirtuin 1-dependent a...</td>\n",
       "      <td>{'contexts': ['Psammaplin A (PsA) is a natural...</td>\n",
       "      <td>PsA significantly inhibited MCF-7/adr cells pr...</td>\n",
       "      <td>yes</td>\n",
       "    </tr>\n",
       "    <tr>\n",
       "      <th>3</th>\n",
       "      <td>25431941</td>\n",
       "      <td>Is methylation of the FGFR2 gene associated wi...</td>\n",
       "      <td>{'contexts': ['This study examined links betwe...</td>\n",
       "      <td>We identified a novel biologically plausible c...</td>\n",
       "      <td>yes</td>\n",
       "    </tr>\n",
       "    <tr>\n",
       "      <th>4</th>\n",
       "      <td>25432519</td>\n",
       "      <td>Do tumor-infiltrating immune cell profiles and...</td>\n",
       "      <td>{'contexts': ['Tumor microenvironment immunity...</td>\n",
       "      <td>Breast cancer immune cell subpopulation profil...</td>\n",
       "      <td>yes</td>\n",
       "    </tr>\n",
       "    <tr>\n",
       "      <th>5</th>\n",
       "      <td>25440440</td>\n",
       "      <td>Is hidradenitis suppurativa a systemic disease...</td>\n",
       "      <td>{'contexts': ['Hidradenitis suppurativa (HS) i...</td>\n",
       "      <td>Control subjects were not validated for absenc...</td>\n",
       "      <td>yes</td>\n",
       "    </tr>\n",
       "    <tr>\n",
       "      <th>6</th>\n",
       "      <td>25444977</td>\n",
       "      <td>Does reference range for serum and salivary te...</td>\n",
       "      <td>{'contexts': ['The interassay variability foun...</td>\n",
       "      <td>In men from the Mediterranean region, values o...</td>\n",
       "      <td>yes</td>\n",
       "    </tr>\n",
       "    <tr>\n",
       "      <th>7</th>\n",
       "      <td>25429648</td>\n",
       "      <td>Are secretory phospholipases A2 secreted from ...</td>\n",
       "      <td>{'contexts': ['Secretory phospholipases A2 (sP...</td>\n",
       "      <td>sPLA2 are secreted from ciliated cells and app...</td>\n",
       "      <td>yes</td>\n",
       "    </tr>\n",
       "    <tr>\n",
       "      <th>8</th>\n",
       "      <td>25424148</td>\n",
       "      <td>Is admission hyperglycemia associated with fai...</td>\n",
       "      <td>{'contexts': ['Hyperglycemia on admission is a...</td>\n",
       "      <td>In patients with STEMI who undergo FT, admissi...</td>\n",
       "      <td>yes</td>\n",
       "    </tr>\n",
       "    <tr>\n",
       "      <th>9</th>\n",
       "      <td>25447560</td>\n",
       "      <td>Do systematic Reviews Published in Emergency M...</td>\n",
       "      <td>{'contexts': ['Publication bias compromises th...</td>\n",
       "      <td>Systematic reviews published in emergency medi...</td>\n",
       "      <td>no</td>\n",
       "    </tr>\n",
       "  </tbody>\n",
       "</table>\n",
       "</div>"
      ],
      "text/plain": [
       "      pubid                                           question  \\\n",
       "0  25429730  Are group 2 innate lymphoid cells ( ILC2s ) in...   \n",
       "1  25433161  Does vagus nerve contribute to the development...   \n",
       "2  25445714  Does psammaplin A induce Sirtuin 1-dependent a...   \n",
       "3  25431941  Is methylation of the FGFR2 gene associated wi...   \n",
       "4  25432519  Do tumor-infiltrating immune cell profiles and...   \n",
       "5  25440440  Is hidradenitis suppurativa a systemic disease...   \n",
       "6  25444977  Does reference range for serum and salivary te...   \n",
       "7  25429648  Are secretory phospholipases A2 secreted from ...   \n",
       "8  25424148  Is admission hyperglycemia associated with fai...   \n",
       "9  25447560  Do systematic Reviews Published in Emergency M...   \n",
       "\n",
       "                                             context  \\\n",
       "0  {'contexts': ['Chronic rhinosinusitis (CRS) is...   \n",
       "1  {'contexts': ['Phosphatidylethanolamine N-meth...   \n",
       "2  {'contexts': ['Psammaplin A (PsA) is a natural...   \n",
       "3  {'contexts': ['This study examined links betwe...   \n",
       "4  {'contexts': ['Tumor microenvironment immunity...   \n",
       "5  {'contexts': ['Hidradenitis suppurativa (HS) i...   \n",
       "6  {'contexts': ['The interassay variability foun...   \n",
       "7  {'contexts': ['Secretory phospholipases A2 (sP...   \n",
       "8  {'contexts': ['Hyperglycemia on admission is a...   \n",
       "9  {'contexts': ['Publication bias compromises th...   \n",
       "\n",
       "                                         long_answer final_decision  \n",
       "0  As ILC2s are elevated in patients with CRSwNP,...            yes  \n",
       "1  Neuronal signals via the hepatic vagus nerve c...            yes  \n",
       "2  PsA significantly inhibited MCF-7/adr cells pr...            yes  \n",
       "3  We identified a novel biologically plausible c...            yes  \n",
       "4  Breast cancer immune cell subpopulation profil...            yes  \n",
       "5  Control subjects were not validated for absenc...            yes  \n",
       "6  In men from the Mediterranean region, values o...            yes  \n",
       "7  sPLA2 are secreted from ciliated cells and app...            yes  \n",
       "8  In patients with STEMI who undergo FT, admissi...            yes  \n",
       "9  Systematic reviews published in emergency medi...             no  "
      ]
     },
     "execution_count": 5,
     "metadata": {},
     "output_type": "execute_result"
    }
   ],
   "source": [
    "pubmedqa_df.head(10)"
   ]
  },
  {
   "cell_type": "code",
   "execution_count": 6,
   "id": "9f6a754e-3e9d-49cf-9cdf-5c54df4face2",
   "metadata": {},
   "outputs": [
    {
     "data": {
      "text/plain": [
       "(211269, 5)"
      ]
     },
     "execution_count": 6,
     "metadata": {},
     "output_type": "execute_result"
    }
   ],
   "source": [
    "pubmedqa_df.shape"
   ]
  },
  {
   "cell_type": "code",
   "execution_count": 7,
   "id": "d8d548ee-b3e4-456a-92b7-37f29ecc9c31",
   "metadata": {},
   "outputs": [
    {
     "name": "stdout",
     "output_type": "stream",
     "text": [
      "<class 'pandas.core.frame.DataFrame'>\n",
      "RangeIndex: 211269 entries, 0 to 211268\n",
      "Data columns (total 5 columns):\n",
      " #   Column          Non-Null Count   Dtype \n",
      "---  ------          --------------   ----- \n",
      " 0   pubid           211269 non-null  int32 \n",
      " 1   question        211269 non-null  object\n",
      " 2   context         211269 non-null  object\n",
      " 3   long_answer     211269 non-null  object\n",
      " 4   final_decision  211269 non-null  object\n",
      "dtypes: int32(1), object(4)\n",
      "memory usage: 7.3+ MB\n"
     ]
    }
   ],
   "source": [
    "pubmedqa_df.info()"
   ]
  },
  {
   "cell_type": "code",
   "execution_count": 8,
   "id": "5b8c0121-3615-4597-bf80-9c2de62d4413",
   "metadata": {},
   "outputs": [
    {
     "data": {
      "text/html": [
       "<div>\n",
       "<style scoped>\n",
       "    .dataframe tbody tr th:only-of-type {\n",
       "        vertical-align: middle;\n",
       "    }\n",
       "\n",
       "    .dataframe tbody tr th {\n",
       "        vertical-align: top;\n",
       "    }\n",
       "\n",
       "    .dataframe thead th {\n",
       "        text-align: right;\n",
       "    }\n",
       "</style>\n",
       "<table border=\"1\" class=\"dataframe\">\n",
       "  <thead>\n",
       "    <tr style=\"text-align: right;\">\n",
       "      <th></th>\n",
       "      <th>pubid</th>\n",
       "    </tr>\n",
       "  </thead>\n",
       "  <tbody>\n",
       "    <tr>\n",
       "      <th>count</th>\n",
       "      <td>2.112690e+05</td>\n",
       "    </tr>\n",
       "    <tr>\n",
       "      <th>mean</th>\n",
       "      <td>2.034132e+07</td>\n",
       "    </tr>\n",
       "    <tr>\n",
       "      <th>std</th>\n",
       "      <td>5.302124e+06</td>\n",
       "    </tr>\n",
       "    <tr>\n",
       "      <th>min</th>\n",
       "      <td>1.125690e+05</td>\n",
       "    </tr>\n",
       "    <tr>\n",
       "      <th>25%</th>\n",
       "      <td>1.698795e+07</td>\n",
       "    </tr>\n",
       "    <tr>\n",
       "      <th>50%</th>\n",
       "      <td>2.136056e+07</td>\n",
       "    </tr>\n",
       "    <tr>\n",
       "      <th>75%</th>\n",
       "      <td>2.474163e+07</td>\n",
       "    </tr>\n",
       "    <tr>\n",
       "      <th>max</th>\n",
       "      <td>2.786846e+07</td>\n",
       "    </tr>\n",
       "  </tbody>\n",
       "</table>\n",
       "</div>"
      ],
      "text/plain": [
       "              pubid\n",
       "count  2.112690e+05\n",
       "mean   2.034132e+07\n",
       "std    5.302124e+06\n",
       "min    1.125690e+05\n",
       "25%    1.698795e+07\n",
       "50%    2.136056e+07\n",
       "75%    2.474163e+07\n",
       "max    2.786846e+07"
      ]
     },
     "execution_count": 8,
     "metadata": {},
     "output_type": "execute_result"
    }
   ],
   "source": [
    "pubmedqa_df.describe()"
   ]
  },
  {
   "cell_type": "code",
   "execution_count": 10,
   "id": "bd7e1b63-89f8-4076-ae91-d6766ceae85b",
   "metadata": {},
   "outputs": [
    {
     "data": {
      "text/plain": [
       "question\n",
       "Does clotting factor concentrate given to prevent bleeding and bleeding-related complications in people with hemophilia A or B?                                                  3\n",
       "Is serum human hepatocyte growth factor ( hHGF ) elevated in patients with metastatic gastric carcinoma?                                                                         2\n",
       "Do the abdominal compartment syndrome in patients with burn injury?                                                                                                              2\n",
       "Is microcirculation in the foot augmented by neuromuscular stimulation via the common peroneal nerve in different lower limb postures : a potential treatment for leg ulcers?    2\n",
       "Are inflammatory markers unrelated to physical activity , performance , and functioning in hemodialysis?                                                                         2\n",
       "                                                                                                                                                                                ..\n",
       "Is maximal standardized uptake value on FDG-PET correlated with cyclooxygenase-2 expression in patients with lung adenocarcinoma?                                                1\n",
       "Is local extension at the hilum region associated with worse long-term survival in stage I non-small cell lung cancers?                                                          1\n",
       "Is hFE C282Y homozygosity associated with an increased risk of total hip replacement for osteoarthritis?                                                                         1\n",
       "Does a brief program improve counseling of mothers with children who have persistent aggression?                                                                                 1\n",
       "Is low intramucosal pH associated with failure to acidify the gastric lumen in response to pentagastrin?                                                                         1\n",
       "Name: count, Length: 211152, dtype: int64"
      ]
     },
     "execution_count": 10,
     "metadata": {},
     "output_type": "execute_result"
    }
   ],
   "source": [
    "pubmedqa_df[\"question\"].value_counts()"
   ]
  },
  {
   "cell_type": "code",
   "execution_count": 11,
   "id": "e7fc0b6b-609b-4b96-8e35-fc930bd6650f",
   "metadata": {},
   "outputs": [
    {
     "data": {
      "text/plain": [
       "long_answer\n",
       "Single-center study.                                                                                                                                                                                                                                                                                                  8\n",
       "Retrospective study.                                                                                                                                                                                                                                                                                                  5\n",
       "Single-center, retrospective study.                                                                                                                                                                                                                                                                                   4\n",
       "H                                                                                                                                                                                                                                                                                                                     3\n",
       "Patients undergoing PPCI via the femoral route are at a higher risk of adverse short-term and long-term outcomes than patients undergoing PPCI via the radial route. Patients with a high baseline risk may benefit most from radial access, and future outcome studies should focus on the most at-risk patients.    2\n",
       "                                                                                                                                                                                                                                                                                                                     ..\n",
       "These data show that TZD-induced SK-1 up-regulation results in lower amounts of CTGF, demonstrating novel facets for the anti-fibrotic effects of this class of drugs.                                                                                                                                                1\n",
       "Collectively, our data suggests that Nrf1 is controlled by several post-translational mechanisms, including ubiquitination, proteolytic processing and proteasomal-mediated degradation as well as by its phosphorylation status.                                                                                     1\n",
       "We conclude that intestinal crypt fission during infancy is mediated by Wnt signalling. It is possible that local treatment with Wnt agonists could be used to increase intestinal growth.                                                                                                                            1\n",
       "C-reactive protein but not copeptin was found to be an accurate predictor for disease severity in imported malaria. The applicability of copeptin as a marker for severe malaria in clinical practice is limited to exclusion of severe malaria.                                                                      1\n",
       "Some critically ill patients with low gastric intramucosal pH appear to have an impaired ability to acidify the gastric lumen in response to pentagastrin.                                                                                                                                                            1\n",
       "Name: count, Length: 211135, dtype: int64"
      ]
     },
     "execution_count": 11,
     "metadata": {},
     "output_type": "execute_result"
    }
   ],
   "source": [
    "pubmedqa_df[\"long_answer\"].value_counts()"
   ]
  },
  {
   "cell_type": "code",
   "execution_count": 12,
   "id": "35abb941-618a-40bf-9cb3-5fb1edcbd836",
   "metadata": {},
   "outputs": [],
   "source": [
    "# Exploring the Questions and Answers columns\n",
    "def questions_answers_stats(df):\n",
    "    # Number of examples\n",
    "    num_examples = len(df)\n",
    "    \n",
    "    # Question statistics\n",
    "    question_lengths = df['question'].apply(lambda x: len(word_tokenize(x)))\n",
    "    min_question_length = min(question_lengths)\n",
    "    max_question_length = max(question_lengths)\n",
    "    avg_question_length = np.mean(question_lengths)\n",
    "    \n",
    "    # Answer statistics\n",
    "    answer_lengths = df['long_answer'].apply(lambda x: len(word_tokenize(x)))\n",
    "    min_answer_length = min(answer_lengths)\n",
    "    max_answer_length = max(answer_lengths)\n",
    "    avg_answer_length = np.mean(answer_lengths)\n",
    "    \n",
    "    # Print statistics\n",
    "    print(\"Number of examples:\", num_examples)\n",
    "    print(\"Question Statistics:\")\n",
    "    print(\"  Minimum question length:\", min_question_length)\n",
    "    print(\"  Maximum question length:\", max_question_length)\n",
    "    print(\"  Average question length:\", avg_question_length)\n",
    "    print(\"Answer Statistics:\")\n",
    "    print(\"  Minimum answer length:\", min_answer_length)\n",
    "    print(\"  Maximum answer length:\", max_answer_length)\n",
    "    print(\"  Average answer length:\", avg_answer_length)"
   ]
  },
  {
   "cell_type": "code",
   "execution_count": 13,
   "id": "1b800350-4929-457d-ba66-da04411e8d2e",
   "metadata": {},
   "outputs": [
    {
     "name": "stderr",
     "output_type": "stream",
     "text": [
      "[nltk_data] Downloading package punkt to\n",
      "[nltk_data]     C:\\Users\\visha\\AppData\\Roaming\\nltk_data...\n",
      "[nltk_data]   Package punkt is already up-to-date!\n"
     ]
    },
    {
     "data": {
      "text/plain": [
       "True"
      ]
     },
     "execution_count": 13,
     "metadata": {},
     "output_type": "execute_result"
    }
   ],
   "source": [
    "nltk.download('punkt')"
   ]
  },
  {
   "cell_type": "code",
   "execution_count": 14,
   "id": "52db6767-2cc3-446b-aacc-7fb38948881e",
   "metadata": {},
   "outputs": [
    {
     "name": "stdout",
     "output_type": "stream",
     "text": [
      "Basic Statistics:\n",
      "Number of examples: 211269\n",
      "Question Statistics:\n",
      "  Minimum question length: 4\n",
      "  Maximum question length: 110\n",
      "  Average question length: 16.345086122431592\n",
      "Answer Statistics:\n",
      "  Minimum answer length: 1\n",
      "  Maximum answer length: 649\n",
      "  Average answer length: 40.96555102736322\n"
     ]
    }
   ],
   "source": [
    "# Computing basic statistics\n",
    "print(\"Basic Statistics:\")\n",
    "questions_answers_stats(pubmedqa_df)"
   ]
  },
  {
   "cell_type": "code",
   "execution_count": 15,
   "id": "11b4e368-3e8b-45f8-87d0-8e11030f3635",
   "metadata": {},
   "outputs": [],
   "source": [
    "# Exploring the context column\n",
    "def contexts(df):\n",
    "    # Compute length of each context\n",
    "    context_lengths = df['context'].apply(lambda x: len(x['contexts'][0].split()))\n",
    "\n",
    "    # Descriptive statistics of context lengths\n",
    "    print(\"Descriptive statistics of context lengths:\")\n",
    "    print(\"Minimum length:\", min(context_lengths))\n",
    "    print(\"Maximum length:\", max(context_lengths))\n",
    "    print(\"Mean length:\", np.mean(context_lengths))"
   ]
  },
  {
   "cell_type": "code",
   "execution_count": 16,
   "id": "c04f6af5-6b2e-4b71-bb60-d74c1971913d",
   "metadata": {},
   "outputs": [
    {
     "name": "stdout",
     "output_type": "stream",
     "text": [
      "Descriptive statistics of context lengths:\n",
      "Minimum length: 1\n",
      "Maximum length: 661\n",
      "Mean length: 50.267313235732644\n"
     ]
    }
   ],
   "source": [
    "contexts(pubmedqa_df)"
   ]
  }
 ],
 "metadata": {
  "kernelspec": {
   "display_name": "Python 3 (ipykernel)",
   "language": "python",
   "name": "python3"
  },
  "language_info": {
   "codemirror_mode": {
    "name": "ipython",
    "version": 3
   },
   "file_extension": ".py",
   "mimetype": "text/x-python",
   "name": "python",
   "nbconvert_exporter": "python",
   "pygments_lexer": "ipython3",
   "version": "3.12.1"
  }
 },
 "nbformat": 4,
 "nbformat_minor": 5
}
