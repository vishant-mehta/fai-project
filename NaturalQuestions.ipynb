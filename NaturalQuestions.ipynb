{
 "cells": [
  {
   "cell_type": "code",
   "execution_count": 31,
   "id": "4153d9df-9776-4331-a9cb-c14d0fc799db",
   "metadata": {},
   "outputs": [],
   "source": [
    "import json\n",
    "import pandas as pd\n",
    "from nltk.tokenize import word_tokenize"
   ]
  },
  {
   "cell_type": "code",
   "execution_count": 32,
   "id": "5a3708a1-387f-451c-9c86-1970f2a7a14c",
   "metadata": {},
   "outputs": [],
   "source": [
    "# Path to the JSONL dataset file\n",
    "jsonl_file_path = \"NQ-open.dev.jsonl\"\n",
    "\n",
    "# Initialize an empty list to store the dataset\n",
    "dataset = []\n",
    "\n",
    "# Read the JSONL file line by line\n",
    "with open(jsonl_file_path, \"r\", encoding=\"utf-8\") as file:\n",
    "    for line in file:\n",
    "        # Parse each line as a JSON object\n",
    "        data = json.loads(line)\n",
    "        # Append the JSON object to the dataset list\n",
    "        dataset.append(data)"
   ]
  },
  {
   "cell_type": "code",
   "execution_count": 33,
   "id": "df800840-40f8-42de-8837-4acd146c5175",
   "metadata": {},
   "outputs": [
    {
     "name": "stdout",
     "output_type": "stream",
     "text": [
      "[{'question': 'when was the last time anyone was on the moon', 'answer': ['14 December 1972 UTC', 'December 1972']}, {'question': \"who wrote he ain't heavy he's my brother lyrics\", 'answer': ['Bobby Scott', 'Bob Russell']}, {'question': 'how many seasons of the bastard executioner are there', 'answer': ['one', 'one season']}, {'question': 'when did the eagles win last super bowl', 'answer': ['2017']}, {'question': \"who won last year's ncaa women's basketball\", 'answer': ['South Carolina']}]\n"
     ]
    }
   ],
   "source": [
    "print(dataset[:5])"
   ]
  },
  {
   "cell_type": "code",
   "execution_count": 34,
   "id": "6e0b5713-c3ab-4789-8062-44cf7021bc97",
   "metadata": {},
   "outputs": [],
   "source": [
    "# Convert it to a dataframe\n",
    "df = pd.DataFrame(dataset)"
   ]
  },
  {
   "cell_type": "code",
   "execution_count": 35,
   "id": "8ec58d6c-5908-447e-8c81-d6bb92b02ed1",
   "metadata": {},
   "outputs": [
    {
     "data": {
      "text/html": [
       "<div>\n",
       "<style scoped>\n",
       "    .dataframe tbody tr th:only-of-type {\n",
       "        vertical-align: middle;\n",
       "    }\n",
       "\n",
       "    .dataframe tbody tr th {\n",
       "        vertical-align: top;\n",
       "    }\n",
       "\n",
       "    .dataframe thead th {\n",
       "        text-align: right;\n",
       "    }\n",
       "</style>\n",
       "<table border=\"1\" class=\"dataframe\">\n",
       "  <thead>\n",
       "    <tr style=\"text-align: right;\">\n",
       "      <th></th>\n",
       "      <th>question</th>\n",
       "      <th>answer</th>\n",
       "    </tr>\n",
       "  </thead>\n",
       "  <tbody>\n",
       "    <tr>\n",
       "      <th>0</th>\n",
       "      <td>when was the last time anyone was on the moon</td>\n",
       "      <td>[14 December 1972 UTC, December 1972]</td>\n",
       "    </tr>\n",
       "    <tr>\n",
       "      <th>1</th>\n",
       "      <td>who wrote he ain't heavy he's my brother lyrics</td>\n",
       "      <td>[Bobby Scott, Bob Russell]</td>\n",
       "    </tr>\n",
       "    <tr>\n",
       "      <th>2</th>\n",
       "      <td>how many seasons of the bastard executioner ar...</td>\n",
       "      <td>[one, one season]</td>\n",
       "    </tr>\n",
       "    <tr>\n",
       "      <th>3</th>\n",
       "      <td>when did the eagles win last super bowl</td>\n",
       "      <td>[2017]</td>\n",
       "    </tr>\n",
       "    <tr>\n",
       "      <th>4</th>\n",
       "      <td>who won last year's ncaa women's basketball</td>\n",
       "      <td>[South Carolina]</td>\n",
       "    </tr>\n",
       "    <tr>\n",
       "      <th>5</th>\n",
       "      <td>when did the isle of wight become an island</td>\n",
       "      <td>[During the last Ice Age]</td>\n",
       "    </tr>\n",
       "    <tr>\n",
       "      <th>6</th>\n",
       "      <td>love yourself by justin bieber is about who</td>\n",
       "      <td>[Rihanna]</td>\n",
       "    </tr>\n",
       "    <tr>\n",
       "      <th>7</th>\n",
       "      <td>who was the ruler of england in 1616</td>\n",
       "      <td>[James I]</td>\n",
       "    </tr>\n",
       "    <tr>\n",
       "      <th>8</th>\n",
       "      <td>what is the hot coffee mod in san andreas</td>\n",
       "      <td>[a normally inaccessible mini-game]</td>\n",
       "    </tr>\n",
       "    <tr>\n",
       "      <th>9</th>\n",
       "      <td>what is the maximum data rate for the 802.11a ...</td>\n",
       "      <td>[54 Mbit/s]</td>\n",
       "    </tr>\n",
       "  </tbody>\n",
       "</table>\n",
       "</div>"
      ],
      "text/plain": [
       "                                            question  \\\n",
       "0      when was the last time anyone was on the moon   \n",
       "1    who wrote he ain't heavy he's my brother lyrics   \n",
       "2  how many seasons of the bastard executioner ar...   \n",
       "3            when did the eagles win last super bowl   \n",
       "4        who won last year's ncaa women's basketball   \n",
       "5        when did the isle of wight become an island   \n",
       "6        love yourself by justin bieber is about who   \n",
       "7               who was the ruler of england in 1616   \n",
       "8          what is the hot coffee mod in san andreas   \n",
       "9  what is the maximum data rate for the 802.11a ...   \n",
       "\n",
       "                                  answer  \n",
       "0  [14 December 1972 UTC, December 1972]  \n",
       "1             [Bobby Scott, Bob Russell]  \n",
       "2                      [one, one season]  \n",
       "3                                 [2017]  \n",
       "4                       [South Carolina]  \n",
       "5              [During the last Ice Age]  \n",
       "6                              [Rihanna]  \n",
       "7                              [James I]  \n",
       "8    [a normally inaccessible mini-game]  \n",
       "9                            [54 Mbit/s]  "
      ]
     },
     "execution_count": 35,
     "metadata": {},
     "output_type": "execute_result"
    }
   ],
   "source": [
    "df.head(10)"
   ]
  },
  {
   "cell_type": "code",
   "execution_count": 44,
   "id": "cdb795a3-3473-4e43-8adb-48a959b0c3fc",
   "metadata": {},
   "outputs": [
    {
     "data": {
      "text/plain": [
       "(3610, 2)"
      ]
     },
     "execution_count": 44,
     "metadata": {},
     "output_type": "execute_result"
    }
   ],
   "source": [
    "df.shape"
   ]
  },
  {
   "cell_type": "code",
   "execution_count": 45,
   "id": "d9fbdd2a-3890-4a8b-bbd0-e2dec077ea22",
   "metadata": {},
   "outputs": [
    {
     "name": "stdout",
     "output_type": "stream",
     "text": [
      "<class 'pandas.core.frame.DataFrame'>\n",
      "RangeIndex: 3610 entries, 0 to 3609\n",
      "Data columns (total 2 columns):\n",
      " #   Column    Non-Null Count  Dtype \n",
      "---  ------    --------------  ----- \n",
      " 0   question  3610 non-null   object\n",
      " 1   answer    3610 non-null   object\n",
      "dtypes: object(2)\n",
      "memory usage: 56.5+ KB\n"
     ]
    }
   ],
   "source": [
    "df.info()"
   ]
  },
  {
   "cell_type": "code",
   "execution_count": 46,
   "id": "ad670f2d-4bc9-47de-875f-d6ca36c576ad",
   "metadata": {},
   "outputs": [
    {
     "data": {
      "text/html": [
       "<div>\n",
       "<style scoped>\n",
       "    .dataframe tbody tr th:only-of-type {\n",
       "        vertical-align: middle;\n",
       "    }\n",
       "\n",
       "    .dataframe tbody tr th {\n",
       "        vertical-align: top;\n",
       "    }\n",
       "\n",
       "    .dataframe thead th {\n",
       "        text-align: right;\n",
       "    }\n",
       "</style>\n",
       "<table border=\"1\" class=\"dataframe\">\n",
       "  <thead>\n",
       "    <tr style=\"text-align: right;\">\n",
       "      <th></th>\n",
       "      <th>question</th>\n",
       "      <th>answer</th>\n",
       "    </tr>\n",
       "  </thead>\n",
       "  <tbody>\n",
       "    <tr>\n",
       "      <th>count</th>\n",
       "      <td>3610</td>\n",
       "      <td>3610</td>\n",
       "    </tr>\n",
       "    <tr>\n",
       "      <th>unique</th>\n",
       "      <td>3610</td>\n",
       "      <td>3403</td>\n",
       "    </tr>\n",
       "    <tr>\n",
       "      <th>top</th>\n",
       "      <td>when was the last time anyone was on the moon</td>\n",
       "      <td>[2018]</td>\n",
       "    </tr>\n",
       "    <tr>\n",
       "      <th>freq</th>\n",
       "      <td>1</td>\n",
       "      <td>13</td>\n",
       "    </tr>\n",
       "  </tbody>\n",
       "</table>\n",
       "</div>"
      ],
      "text/plain": [
       "                                             question  answer\n",
       "count                                            3610    3610\n",
       "unique                                           3610    3403\n",
       "top     when was the last time anyone was on the moon  [2018]\n",
       "freq                                                1      13"
      ]
     },
     "execution_count": 46,
     "metadata": {},
     "output_type": "execute_result"
    }
   ],
   "source": [
    "df.describe()"
   ]
  },
  {
   "cell_type": "code",
   "execution_count": 47,
   "id": "721a029a-b663-48cf-8529-6fd7334a16be",
   "metadata": {},
   "outputs": [
    {
     "data": {
      "text/plain": [
       "question\n",
       "when was the last time anyone was on the moon      1\n",
       "what is the name of a camel with 2 humps           1\n",
       "when did the first pokemon game come out           1\n",
       "who plays jill bigelow in line of duty             1\n",
       "what do you say when you win bingo                 1\n",
       "                                                  ..\n",
       "who wrote the theme song for mission impossible    1\n",
       "who wrote the theme to last of the mohicans        1\n",
       "when did day light savings start in the us         1\n",
       "what does the m number mean on a pint glass        1\n",
       "what is the meaning of the name comanche           1\n",
       "Name: count, Length: 3610, dtype: int64"
      ]
     },
     "execution_count": 47,
     "metadata": {},
     "output_type": "execute_result"
    }
   ],
   "source": [
    "df[\"question\"].value_counts()"
   ]
  },
  {
   "cell_type": "code",
   "execution_count": 48,
   "id": "54bcbb99-3d33-4edd-8ec1-3b8c43255257",
   "metadata": {},
   "outputs": [
    {
     "data": {
      "text/plain": [
       "answer\n",
       "[2018]                                         13\n",
       "[2017]                                          8\n",
       "[1989]                                          6\n",
       "[10]                                            6\n",
       "[four]                                          6\n",
       "                                               ..\n",
       "[in the 1970s]                                  1\n",
       "[Return of the Jedi, In Return of the Jedi]     1\n",
       "[Since 1940, 1940]                              1\n",
       "[southern Anatolia, in southern Anatolia]       1\n",
       "[enemy]                                         1\n",
       "Name: count, Length: 3403, dtype: int64"
      ]
     },
     "execution_count": 48,
     "metadata": {},
     "output_type": "execute_result"
    }
   ],
   "source": [
    "df[\"answer\"].value_counts()"
   ]
  },
  {
   "cell_type": "code",
   "execution_count": 49,
   "id": "62b3edff-14c8-4a5c-bc06-abf524ee1620",
   "metadata": {},
   "outputs": [],
   "source": [
    "# Exploring the Question and Answer columns\n",
    "def questions_answers_stats(df):\n",
    "    # Number of examples\n",
    "    num_examples = len(df)\n",
    "    \n",
    "    # Question statistics\n",
    "    question_lengths = df['question'].apply(lambda x: len(word_tokenize(x)))\n",
    "    min_question_length = min(question_lengths)\n",
    "    max_question_length = max(question_lengths)\n",
    "    avg_question_length = question_lengths.mean()\n",
    "    \n",
    "    # Answer statistics\n",
    "    all_answers = [item for sublist in df['answer'] for item in sublist]\n",
    "    answer_lengths = [len(word_tokenize(answer)) for answer in all_answers if answer]\n",
    "    min_answer_length = min(answer_lengths)\n",
    "    max_answer_length = max(answer_lengths)\n",
    "    avg_answer_length = sum(answer_lengths) / len(answer_lengths) if answer_lengths else 0\n",
    "    \n",
    "    # Print statistics\n",
    "    print(\"Number of examples:\", num_examples)\n",
    "    print(\"Question Statistics:\")\n",
    "    print(\"  Minimum question length:\", min_question_length)\n",
    "    print(\"  Maximum question length:\", max_question_length)\n",
    "    print(\"  Average question length:\", avg_question_length)\n",
    "    print(\"Answer Statistics:\")\n",
    "    print(\"  Minimum answer length:\", min_answer_length)\n",
    "    print(\"  Maximum answer length:\", max_answer_length)\n",
    "    print(\"  Average answer length:\", avg_answer_length)"
   ]
  },
  {
   "cell_type": "code",
   "execution_count": 50,
   "id": "99ed2330-2af9-43ad-b93f-260ecccb3a8e",
   "metadata": {},
   "outputs": [
    {
     "name": "stdout",
     "output_type": "stream",
     "text": [
      "Basic Statistics:\n",
      "Number of examples: 3610\n",
      "Question Statistics:\n",
      "  Minimum question length: 4\n",
      "  Maximum question length: 22\n",
      "  Average question length: 9.229085872576178\n",
      "Answer Statistics:\n",
      "  Minimum answer length: 1\n",
      "  Maximum answer length: 6\n",
      "  Average answer length: 2.280893682588598\n"
     ]
    }
   ],
   "source": [
    "# Compute basic statistics\n",
    "print(\"Basic Statistics:\")\n",
    "questions_answers_stats(df)"
   ]
  }
 ],
 "metadata": {
  "kernelspec": {
   "display_name": "Python 3 (ipykernel)",
   "language": "python",
   "name": "python3"
  },
  "language_info": {
   "codemirror_mode": {
    "name": "ipython",
    "version": 3
   },
   "file_extension": ".py",
   "mimetype": "text/x-python",
   "name": "python",
   "nbconvert_exporter": "python",
   "pygments_lexer": "ipython3",
   "version": "3.12.1"
  }
 },
 "nbformat": 4,
 "nbformat_minor": 5
}
